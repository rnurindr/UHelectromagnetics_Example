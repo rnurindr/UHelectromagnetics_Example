{
  "cells": [
    {
      "metadata": {},
      "cell_type": "markdown",
      "source": "# Understanding grounded source EM"
    },
    {
      "metadata": {},
      "cell_type": "markdown",
      "source": "The objective of this lab exercise is to help students develop a better understanding of the physics of the grounded source EM, with the help of the interactive apps that allow students to adjust model and survey parameters and simulate EM fields. <br>\n\nWe are going to look at three models that were discussed in class in order to build an understanding of the grounded source EM. \n\n- Halfspace (0.01 S/m)\n- Conductive block in halfspace (1 S/m)\n- Resitive block in halfspace (10$^{-4}$ S/m).\n\nWe will also use a canonical layered Earth model to simulate a marine CSEM survey. \n\nAfter finishing this exercise, students will understand <br>\n* How the currents distribute in a homogenous halfspace;\n* How a resitor and a conductor change the current distribution;\n* How the resistivit of hydrocarbon reservior affect the electric field.\n\nAuthor: Jiajia Sun at University of Houston, Nov 2nd, 2018."
    },
    {
      "metadata": {
        "trusted": true,
        "scrolled": false
      },
      "cell_type": "code",
      "source": "!pip install em_examples",
      "execution_count": 51,
      "outputs": [
        {
          "output_type": "stream",
          "text": "Requirement already satisfied: em_examples in /home/nbuser/anaconda3_420/lib/python3.5/site-packages (0.0.34)\nRequirement already satisfied: numpy>=1.7 in /home/nbuser/anaconda3_420/lib/python3.5/site-packages (from em_examples) (1.15.2)\nRequirement already satisfied: SimPEG>=0.4.1 in /home/nbuser/anaconda3_420/lib/python3.5/site-packages (from em_examples) (0.9.2)\nRequirement already satisfied: requests in /home/nbuser/anaconda3_420/lib/python3.5/site-packages (from em_examples) (2.19.1)\nRequirement already satisfied: matplotlib>2.1. in /home/nbuser/anaconda3_420/lib/python3.5/site-packages (from em_examples) (2.1.1)\nRequirement already satisfied: future in /home/nbuser/anaconda3_420/lib/python3.5/site-packages (from em_examples) (0.16.0)\nRequirement already satisfied: ipywidgets in /home/nbuser/anaconda3_420/lib/python3.5/site-packages (from em_examples) (7.2.1)\nRequirement already satisfied: jupyter in /home/nbuser/anaconda3_420/lib/python3.5/site-packages (from em_examples) (1.0.0)\nRequirement already satisfied: Pillow in /home/nbuser/anaconda3_420/lib/python3.5/site-packages (from em_examples) (4.3.0)\nRequirement already satisfied: deepdish in /home/nbuser/anaconda3_420/lib/python3.5/site-packages (from em_examples) (0.3.6)\nRequirement already satisfied: empymod in /home/nbuser/anaconda3_420/lib/python3.5/site-packages (from em_examples) (1.8.0)\nRequirement already satisfied: scipy>=0.13 in /home/nbuser/anaconda3_420/lib/python3.5/site-packages (from em_examples) (1.1.0)\nRequirement already satisfied: pymatsolver>=0.1.2 in /home/nbuser/anaconda3_420/lib/python3.5/site-packages (from em_examples) (0.1.2)\nRequirement already satisfied: vectormath>=0.2.0 in /home/nbuser/anaconda3_420/lib/python3.5/site-packages (from SimPEG>=0.4.1->em_examples) (0.2.0)\nRequirement already satisfied: ipython in /home/nbuser/anaconda3_420/lib/python3.5/site-packages (from SimPEG>=0.4.1->em_examples) (6.2.1)\nRequirement already satisfied: cython in /home/nbuser/anaconda3_420/lib/python3.5/site-packages (from SimPEG>=0.4.1->em_examples) (0.24.1)\nRequirement already satisfied: geoana>=0.0.4 in /home/nbuser/anaconda3_420/lib/python3.5/site-packages (from SimPEG>=0.4.1->em_examples) (0.0.5)\nRequirement already satisfied: discretize>=0.2.0 in /home/nbuser/anaconda3_420/lib/python3.5/site-packages (from SimPEG>=0.4.1->em_examples) (0.3.3)\nRequirement already satisfied: properties>=0.5.2 in /home/nbuser/anaconda3_420/lib/python3.5/site-packages (from SimPEG>=0.4.1->em_examples) (0.5.4)\nRequirement already satisfied: certifi>=2017.4.17 in /home/nbuser/anaconda3_420/lib/python3.5/site-packages (from requests->em_examples) (2018.8.24)\nRequirement already satisfied: urllib3<1.24,>=1.21.1 in /home/nbuser/anaconda3_420/lib/python3.5/site-packages (from requests->em_examples) (1.23)\nRequirement already satisfied: chardet<3.1.0,>=3.0.2 in /home/nbuser/anaconda3_420/lib/python3.5/site-packages (from requests->em_examples) (3.0.4)\nRequirement already satisfied: idna<2.8,>=2.5 in /home/nbuser/anaconda3_420/lib/python3.5/site-packages (from requests->em_examples) (2.7)\nRequirement already satisfied: six>=1.10 in /home/nbuser/anaconda3_420/lib/python3.5/site-packages (from matplotlib>2.1.->em_examples) (1.11.0)\nRequirement already satisfied: python-dateutil>=2.0 in /home/nbuser/anaconda3_420/lib/python3.5/site-packages (from matplotlib>2.1.->em_examples) (2.7.3)\nRequirement already satisfied: pytz in /home/nbuser/anaconda3_420/lib/python3.5/site-packages (from matplotlib>2.1.->em_examples) (2016.6.1)\nRequirement already satisfied: cycler>=0.10 in /home/nbuser/anaconda3_420/lib/python3.5/site-packages (from matplotlib>2.1.->em_examples) (0.10.0)\nRequirement already satisfied: pyparsing!=2.0.4,!=2.1.2,!=2.1.6,>=2.0.1 in /home/nbuser/anaconda3_420/lib/python3.5/site-packages (from matplotlib>2.1.->em_examples) (2.1.4)\nRequirement already satisfied: ipykernel>=4.5.1 in /home/nbuser/anaconda3_420/lib/python3.5/site-packages (from ipywidgets->em_examples) (4.7.0)\nRequirement already satisfied: traitlets>=4.3.1 in /home/nbuser/anaconda3_420/lib/python3.5/site-packages (from ipywidgets->em_examples) (4.3.1)\nRequirement already satisfied: nbformat>=4.2.0 in /home/nbuser/anaconda3_420/lib/python3.5/site-packages (from ipywidgets->em_examples) (4.2.0)\nRequirement already satisfied: widgetsnbextension~=3.2.0 in /home/nbuser/anaconda3_420/lib/python3.5/site-packages (from ipywidgets->em_examples) (3.2.0)\nRequirement already satisfied: olefile in /home/nbuser/anaconda3_420/lib/python3.5/site-packages (from Pillow->em_examples) (0.44)\nRequirement already satisfied: tables in /home/nbuser/anaconda3_420/lib/python3.5/site-packages (from deepdish->em_examples) (3.4.2)\nRequirement already satisfied: pyMKL>=0.0.3 in /home/nbuser/anaconda3_420/lib/python3.5/site-packages (from pymatsolver>=0.1.2->em_examples) (0.0.3)\nRequirement already satisfied: setuptools>=18.5 in /home/nbuser/anaconda3_420/lib/python3.5/site-packages (from ipython->SimPEG>=0.4.1->em_examples) (40.4.3)\nRequirement already satisfied: jedi>=0.10 in /home/nbuser/anaconda3_420/lib/python3.5/site-packages (from ipython->SimPEG>=0.4.1->em_examples) (0.11.0)\nRequirement already satisfied: decorator in /home/nbuser/anaconda3_420/lib/python3.5/site-packages (from ipython->SimPEG>=0.4.1->em_examples) (4.0.10)\nRequirement already satisfied: pickleshare in /home/nbuser/anaconda3_420/lib/python3.5/site-packages (from ipython->SimPEG>=0.4.1->em_examples) (0.7.4)\nRequirement already satisfied: simplegeneric>0.8 in /home/nbuser/anaconda3_420/lib/python3.5/site-packages (from ipython->SimPEG>=0.4.1->em_examples) (0.8.1)\nRequirement already satisfied: prompt_toolkit<2.0.0,>=1.0.4 in /home/nbuser/anaconda3_420/lib/python3.5/site-packages (from ipython->SimPEG>=0.4.1->em_examples) (1.0.15)\nRequirement already satisfied: pygments in /home/nbuser/anaconda3_420/lib/python3.5/site-packages (from ipython->SimPEG>=0.4.1->em_examples) (2.1.3)\nRequirement already satisfied: pexpect in /home/nbuser/anaconda3_420/lib/python3.5/site-packages (from ipython->SimPEG>=0.4.1->em_examples) (4.0.1)\nRequirement already satisfied: utm in /home/nbuser/anaconda3_420/lib/python3.5/site-packages (from geoana>=0.0.4->SimPEG>=0.4.1->em_examples) (0.4.2)\nRequirement already satisfied: jupyter_client in /home/nbuser/anaconda3_420/lib/python3.5/site-packages (from ipykernel>=4.5.1->ipywidgets->em_examples) (5.1.0)\nRequirement already satisfied: tornado>=4.0 in /home/nbuser/anaconda3_420/lib/python3.5/site-packages (from ipykernel>=4.5.1->ipywidgets->em_examples) (4.4.1)\nRequirement already satisfied: notebook>=4.4.1 in /home/nbuser/anaconda3_420/lib/python3.5/site-packages (from widgetsnbextension~=3.2.0->ipywidgets->em_examples) (5.0.0)\nRequirement already satisfied: numexpr>=2.5.2 in /home/nbuser/anaconda3_420/lib/python3.5/site-packages (from tables->deepdish->em_examples) (2.6.2)\nRequirement already satisfied: parso==0.1.* in /home/nbuser/anaconda3_420/lib/python3.5/site-packages (from jedi>=0.10->ipython->SimPEG>=0.4.1->em_examples) (0.1.1)\nRequirement already satisfied: wcwidth in /home/nbuser/anaconda3_420/lib/python3.5/site-packages (from prompt_toolkit<2.0.0,>=1.0.4->ipython->SimPEG>=0.4.1->em_examples) (0.1.7)\nRequirement already satisfied: jupyter_core in /home/nbuser/anaconda3_420/lib/python3.5/site-packages (from jupyter_client->ipykernel>=4.5.1->ipywidgets->em_examples) (4.4.0)\nRequirement already satisfied: pyzmq>=13 in /home/nbuser/anaconda3_420/lib/python3.5/site-packages (from jupyter_client->ipykernel>=4.5.1->ipywidgets->em_examples) (15.4.0)\n\u001b[33mYou are using pip version 18.0, however version 18.1 is available.\nYou should consider upgrading via the 'pip install --upgrade pip' command.\u001b[0m\n",
          "name": "stdout"
        }
      ]
    },
    {
      "metadata": {
        "trusted": true
      },
      "cell_type": "code",
      "source": "from ipywidgets import interact, interactive, FloatSlider, IntSlider, ToggleButtons\nfrom em_examples.TDEMGroundedSource import *\n%pylab inline",
      "execution_count": 44,
      "outputs": [
        {
          "output_type": "stream",
          "text": "Populating the interactive namespace from numpy and matplotlib\n",
          "name": "stdout"
        }
      ]
    },
    {
      "metadata": {},
      "cell_type": "markdown",
      "source": "## Grounded source EM with a halfspace"
    },
    {
      "metadata": {},
      "cell_type": "markdown",
      "source": "Survey Setup:"
    },
    {
      "metadata": {
        "trusted": true
      },
      "cell_type": "code",
      "source": "Q = interact(choose_model, \n         model=ToggleButtons(\n             options=[\"halfspace\", \"conductor\", \"resistor\"], value=\"halfspace\"\n         )\n)\nimport matplotlib\nmatplotlib.rcParams['font.size']=16\noptions = load_or_run_results(\n    re_run=False, \n    fname=choose_model(Q.widget.kwargs['model']),\n    sigma_block=0.01,\n    sigma_halfspace=0.01\n)\ntdem = PlotTDEM(**options)\ninteract(\n    tdem.show_3d_survey_geometry, \n    elev=FloatSlider(min=-180, max=180, step=10, value=30),\n    azim=FloatSlider(min=-180, max=180, step=10, value=-45),\n)\ninteract(\n    tdem.plot_input_currents, \n    itime=IntSlider(min=15, max=50, step=1, value=15, contiusous_update=False),\n    scale=ToggleButtons(\n        options=[\"linear\", \"log\"], value=\"linear\"\n    ),\n    \n)",
      "execution_count": null,
      "outputs": [
        {
          "output_type": "display_data",
          "data": {
            "application/vnd.jupyter.widget-view+json": {
              "model_id": "d0b711a2343f44e58cbc9a6b90d470eb",
              "version_minor": 0,
              "version_major": 2
            },
            "text/plain": "interactive(children=(ToggleButtons(description='model', options=('halfspace', 'conductor', 'resistor'), value…"
          },
          "metadata": {}
        },
        {
          "output_type": "stream",
          "text": "file already exists, new file is called /home/nbuser/library/tdem_groundedsource.tar\nDownloading https://storage.googleapis.com/simpeg/em_examples/tdem_groundedsource/tdem_groundedsource.tar\n",
          "name": "stdout"
        }
      ]
    },
    {
      "metadata": {
        "trusted": true
      },
      "cell_type": "code",
      "source": "interact(\n    tdem.plot_electric_currents, \n    itime=IntSlider(min=15, max=50, step=1, value=15, contiusous_update=False)\n)",
      "execution_count": 37,
      "outputs": [
        {
          "output_type": "display_data",
          "data": {
            "application/vnd.jupyter.widget-view+json": {
              "model_id": "d94ae660e1ff4d3bad1cd99b04445e2a",
              "version_minor": 0,
              "version_major": 2
            },
            "text/plain": "interactive(children=(IntSlider(value=15, description='itime', max=50, min=15), Output()), _dom_classes=('widg…"
          },
          "metadata": {}
        },
        {
          "output_type": "execute_result",
          "execution_count": 37,
          "data": {
            "text/plain": "<function ipywidgets.widgets.interaction._InteractFactory.__call__.<locals>.<lambda>>"
          },
          "metadata": {}
        }
      ]
    },
    {
      "metadata": {},
      "cell_type": "markdown",
      "source": "<font color = red>**Task 1**</font>: Set itime to 15, i.e., at time 0.00 ms (immediately after the current in the electrical dipole is interrupted), describe the spatial pattern of the induced currents in the x-z plane (i.e., the right panel).  <font color=red>**(10 points)**</font>"
    },
    {
      "metadata": {},
      "cell_type": "markdown",
      "source": "<font color = red>**HINT:**</font> The spatial pattern includes the directions, the shapes, and the magnitudes of the induced currents."
    },
    {
      "metadata": {},
      "cell_type": "markdown",
      "source": "**(answer to Task 1:) **<br>\n"
    },
    {
      "metadata": {},
      "cell_type": "markdown",
      "source": "<font color = red>**Task 2**</font>: As you increase the time (by adjusting the itime slider), summarize what you observe about the current density in x-z plane (i.e. the right panel).  <font color=red>**(20 points)**</font>"
    },
    {
      "metadata": {},
      "cell_type": "markdown",
      "source": "<font color = red>**HINT:**</font> Please summarize your observations from the following aspects. First, how does the maximum current density value change when you increase the time? Secondly, how does the location of the peak of the current density change? Thirdly, how does the direction of the currents change?"
    },
    {
      "metadata": {},
      "cell_type": "markdown",
      "source": "**(answer to Task 2:)** <br>\n"
    },
    {
      "metadata": {},
      "cell_type": "markdown",
      "source": "## Grounded source EM with a conductor"
    },
    {
      "metadata": {
        "trusted": true
      },
      "cell_type": "code",
      "source": "Q = interact(choose_model, \n         model=ToggleButtons(\n             options=[\"halfspace\", \"conductor\", \"resistor\"], value=\"conductor\"\n         )\n)\nimport matplotlib\nmatplotlib.rcParams['font.size']=16\noptions = load_or_run_results(\n    re_run=False, \n    fname=choose_model(Q.widget.kwargs['model']),\n    sigma_block=0.01,\n    sigma_halfspace=0.01\n)\ntdem = PlotTDEM(**options)\ninteract(\n    tdem.plot_electric_currents, \n    itime=IntSlider(min=15, max=50, step=1, value=15, contiusous_update=False)\n)",
      "execution_count": 38,
      "outputs": [
        {
          "output_type": "display_data",
          "data": {
            "application/vnd.jupyter.widget-view+json": {
              "model_id": "94bb091d8f734e22924068e4e30a9f4d",
              "version_minor": 0,
              "version_major": 2
            },
            "text/plain": "interactive(children=(ToggleButtons(description='model', index=1, options=('halfspace', 'conductor', 'resistor…"
          },
          "metadata": {}
        },
        {
          "output_type": "stream",
          "text": "file already exists, new file is called /home/nbuser/library/tdem_groundedsource.tar\nDownloading https://storage.googleapis.com/simpeg/em_examples/tdem_groundedsource/tdem_groundedsource.tar\n   saved to: /home/nbuser/library/tdem_groundedsource.tar\nDownload completed!\n",
          "name": "stdout"
        },
        {
          "output_type": "display_data",
          "data": {
            "application/vnd.jupyter.widget-view+json": {
              "model_id": "1cd55c2779f34e9f9d88275b3a33c11d",
              "version_minor": 0,
              "version_major": 2
            },
            "text/plain": "interactive(children=(IntSlider(value=15, description='itime', max=50, min=15), Output()), _dom_classes=('widg…"
          },
          "metadata": {}
        },
        {
          "output_type": "execute_result",
          "execution_count": 38,
          "data": {
            "text/plain": "<function ipywidgets.widgets.interaction._InteractFactory.__call__.<locals>.<lambda>>"
          },
          "metadata": {}
        }
      ]
    },
    {
      "metadata": {},
      "cell_type": "markdown",
      "source": "<font color = red>**Task 3**</font>: Set itime to 15, i.e., at time 0.00 ms (immediately after the current in the electrical dipole is interrupted). How is the induced current in the case of a conductor different from what you have observed above for a homogeneous halfspace? <font color=red>**(10 points)**</font>"
    },
    {
      "metadata": {},
      "cell_type": "markdown",
      "source": "**(answer to Task 3:)**<br>\n"
    },
    {
      "metadata": {},
      "cell_type": "markdown",
      "source": "<font color = red>**Task 4**</font>: Set itime to 42, i.e., at time 8.10 ms. How is the induced current different from what you observed at time 0.00 ms? <font color=red>**(10 points)**</font>"
    },
    {
      "metadata": {},
      "cell_type": "markdown",
      "source": "**(answer to Task 4:) <br>**\n"
    },
    {
      "metadata": {},
      "cell_type": "markdown",
      "source": "## Grounded source EM with a resistor"
    },
    {
      "metadata": {
        "trusted": true
      },
      "cell_type": "code",
      "source": "Q = interact(choose_model, \n         model=ToggleButtons(\n             options=[\"halfspace\", \"conductor\", \"resistor\"], value=\"resistor\"\n         )\n)\nimport matplotlib\nmatplotlib.rcParams['font.size']=16\noptions = load_or_run_results(\n    re_run=False, \n    fname=choose_model(Q.widget.kwargs['model']),\n    sigma_block=0.01,\n    sigma_halfspace=0.01\n)\ntdem = PlotTDEM(**options)\ninteract(\n    tdem.plot_electric_currents, \n    itime=IntSlider(min=15, max=50, step=1, value=15, contiusous_update=False)\n)",
      "execution_count": 39,
      "outputs": [
        {
          "output_type": "display_data",
          "data": {
            "application/vnd.jupyter.widget-view+json": {
              "model_id": "6c7dfebc8bf746a8a566becb82d2edd4",
              "version_minor": 0,
              "version_major": 2
            },
            "text/plain": "interactive(children=(ToggleButtons(description='model', index=2, options=('halfspace', 'conductor', 'resistor…"
          },
          "metadata": {}
        },
        {
          "output_type": "stream",
          "text": "file already exists, new file is called /home/nbuser/library/tdem_groundedsource.tar\nDownloading https://storage.googleapis.com/simpeg/em_examples/tdem_groundedsource/tdem_groundedsource.tar\n   saved to: /home/nbuser/library/tdem_groundedsource.tar\nDownload completed!\n",
          "name": "stdout"
        },
        {
          "output_type": "display_data",
          "data": {
            "application/vnd.jupyter.widget-view+json": {
              "model_id": "5855cb4b45e24c599a43fa5df6dc8ec0",
              "version_minor": 0,
              "version_major": 2
            },
            "text/plain": "interactive(children=(IntSlider(value=15, description='itime', max=50, min=15), Output()), _dom_classes=('widg…"
          },
          "metadata": {}
        },
        {
          "output_type": "execute_result",
          "execution_count": 39,
          "data": {
            "text/plain": "<function ipywidgets.widgets.interaction._InteractFactory.__call__.<locals>.<lambda>>"
          },
          "metadata": {}
        }
      ]
    },
    {
      "metadata": {},
      "cell_type": "markdown",
      "source": "<font color = red>**Task 5**</font>: Set itime to 16, i.e., at time 0.02 ms. Summarize your observations of the induced current in the x-y and x-z plane. <font color=red>**(15 points)**</font>"
    },
    {
      "metadata": {},
      "cell_type": "markdown",
      "source": "**(answer to Task 5:) <br>**\n"
    },
    {
      "metadata": {},
      "cell_type": "markdown",
      "source": "<font color = red>**Task 6**</font>: Now keep increasing the itime index. How does the induced current in the x-z plane change with time? <font color=red>**(15 points)**</font>"
    },
    {
      "metadata": {},
      "cell_type": "markdown",
      "source": "**(answer to Task 6:) <br>**\n"
    },
    {
      "metadata": {},
      "cell_type": "markdown",
      "source": "## Marine controlled source EM (CSEM)"
    },
    {
      "metadata": {
        "trusted": true
      },
      "cell_type": "code",
      "source": "from em_examples.MarineCSEM1D import show_canonical_model, FieldsApp, DataApp\nfrom IPython.display import HTML\nfrom empymod import utils",
      "execution_count": 40,
      "outputs": []
    },
    {
      "metadata": {},
      "cell_type": "markdown",
      "source": "## Canonical model\n\nWe consider a canonical resistivity model, which includes a thin resistive layer (correspond to a reservoir containing signicant amount of hydrocarbon). Five layers having different resistivity values are considered: \n\n- air: perfect insulater ($\\rho_0)$~1e8 $\\Omega$m)\n- seawater: conductor ($\\rho_1)$~0.3 $\\Omega$m)\n- sea sediment (upper): conductor ($\\rho_2)$~1 $\\Omega$m)\n- reservoir: resistor ($\\rho_3)$~100 $\\Omega$m)) \n- sea sediment (lower): conductor ($\\rho_4)$~1 $\\Omega$m)\n\nConductive sea sediment can have anisotropy, and often vertical resistivity ($\\rho_v$) is greater than horizontal resistivity ($\\rho_h$); e.g. $\\rho_v/\\rho_h \\simeq 2$. However, the hydrocarbon reservoir is often assumed to be isotropic. "
    },
    {
      "metadata": {
        "trusted": true
      },
      "cell_type": "code",
      "source": "show_canonical_model()",
      "execution_count": 41,
      "outputs": [
        {
          "output_type": "display_data",
          "data": {
            "image/png": "[encoded data removed]",
            "text/plain": "<matplotlib.figure.Figure at 0x7fcb90d774a8>"
          },
          "metadata": {}
        }
      ]
    },
    {
      "metadata": {
        "trusted": true
      },
      "cell_type": "code",
      "source": "DataApp()",
      "execution_count": 42,
      "outputs": [
        {
          "output_type": "display_data",
          "data": {
            "application/vnd.jupyter.widget-view+json": {
              "model_id": "36aafba699d442ba9aa34a9f99e18f3a",
              "version_minor": 0,
              "version_major": 2
            },
            "text/plain": "VBox(children=(HBox(children=(VBox(children=(FloatText(value=0.5, description='f (Hz)'), FloatText(value=-950.…"
          },
          "metadata": {}
        }
      ]
    },
    {
      "metadata": {},
      "cell_type": "markdown",
      "source": "Note that in the above panel, the red curve shows the measured electric field as a function of distance (of the receivers) when there is a resistive hydrocarbon reservoir. The black curve summarizes the electric field when no hydrocarbon reservior is present."
    },
    {
      "metadata": {},
      "cell_type": "markdown",
      "source": "<font color = red>**Task 7**</font>: The resistivity of the hydrocarbon reservoir, $\\rho_3$, is set to 100 $\\Omega\\cdot m$. Now change that to 10 $\\Omega\\cdot m$. How does the electric field change? In this case, if we still want to detect the reservior, where should we put our receivers? <font color=red>**(10 points)**</font>"
    },
    {
      "metadata": {},
      "cell_type": "markdown",
      "source": "**(answer to Task 7:) <br>**\n"
    },
    {
      "metadata": {},
      "cell_type": "markdown",
      "source": "<font color = red>**Task 8**</font>: Now set the resistivity of the reservoir to 500 $\\Omega\\cdot m$. How does the electric field change? Does this make the detection of hycarbon reservior easier or harder? Why? <font color=red>**(10 points)**</font>"
    },
    {
      "metadata": {},
      "cell_type": "markdown",
      "source": "**(answer to Task 8:) <br>**\n"
    },
    {
      "metadata": {
        "trusted": false
      },
      "cell_type": "markdown",
      "source": "## Acknowledgments\nThe apps that were used in this lab were developed by the [SimPEG](http://www.simpeg.xyz/) team. Most members are graduate students from [UBC-GIF](https://gif.eos.ubc.ca/about). I would like all SimPEG team members for their hard and awesome work!\n\n<img src = \"simpegteam.PNG\">"
    },
    {
      "metadata": {
        "trusted": true
      },
      "cell_type": "code",
      "source": "",
      "execution_count": null,
      "outputs": []
    }
  ],
  "metadata": {
    "anaconda-cloud": {},
    "kernelspec": {
      "name": "python3",
      "display_name": "Python 3",
      "language": "python"
    },
    "language_info": {
      "mimetype": "text/x-python",
      "nbconvert_exporter": "python",
      "name": "python",
      "pygments_lexer": "ipython3",
      "version": "3.5.4",
      "file_extension": ".py",
      "codemirror_mode": {
        "version": 3,
        "name": "ipython"
      }
    }
  },
  "nbformat": 4,
  "nbformat_minor": 1
}