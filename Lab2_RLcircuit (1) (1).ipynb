{
  "cells": [
    {
      "metadata": {},
      "cell_type": "markdown",
      "source": "# Understanding EM using RL circuit\nIn this lab exercise, we are going to use simple RL circuits to understand the frequency domain and time domain EM experiments. Similar to the previous lab, we will make use of the interactive EM apps. <br>\n\nAfter finishing this exercise, you will understand <br>\n** for a frequency domain EM experiment**, \n* how resistivity of a subsurface target affects the phase lag; <br>\n* how resistivity of a subsurface target affects the amplitude of the induced current; <br>\n* how the in-phase and quadrature components are affected by resistivity; <br>\n* how the coupling between transmitter and receiver loops affects the induced current; <br>\n\n** and for a time domain EM experiment**, \n* how the resistivity affects the decay rate of the induced current; <br>\n* how the depth of the subsurface target affects the decaying behavior of the induced current; <br>\n* how the primary in the transmitter loop affects the decaying behavior of the induced current. <br>\n\nAuthor: Jiajia Sun at University of Houston, September 25th, 2018."
    },
    {
      "metadata": {
        "trusted": true,
        "scrolled": false
      },
      "cell_type": "code",
      "source": "!pip install -r ./requirements.txt",
      "execution_count": 1,
      "outputs": [
        {
          "output_type": "stream",
          "text": "Requirement already satisfied: numpy in /home/nbuser/anaconda3_501/lib/python3.6/site-packages (from -r ./requirements.txt (line 1)) (1.15.2)\nRequirement already satisfied: scipy in /home/nbuser/anaconda3_501/lib/python3.6/site-packages (from -r ./requirements.txt (line 2)) (0.19.1)\nRequirement already satisfied: matplotlib in /home/nbuser/anaconda3_501/lib/python3.6/site-packages (from -r ./requirements.txt (line 3)) (2.1.1)\nRequirement already satisfied: Pillow in /home/nbuser/anaconda3_501/lib/python3.6/site-packages (from -r ./requirements.txt (line 4)) (4.3.0)\nRequirement already satisfied: ipywidgets>=0.6.0 in /home/nbuser/anaconda3_501/lib/python3.6/site-packages (from -r ./requirements.txt (line 5)) (7.2.1)\nRequirement already satisfied: requests in /home/nbuser/anaconda3_501/lib/python3.6/site-packages (from -r ./requirements.txt (line 6)) (2.19.1)\nCollecting SimPEG (from -r ./requirements.txt (line 7))\n  Using cached https://files.pythonhosted.org/packages/4f/b5/042629700a6bec03b3a693c4dcb15b15087668c5ae5f4142ba8d7b8aee8e/SimPEG-0.9.2-py2.py3-none-any.whl\nCollecting em_examples (from -r ./requirements.txt (line 8))\n  Using cached https://files.pythonhosted.org/packages/ca/01/3b3c3f7402fc2967811398ab00789bd273afd2cb1ccada0e0774bff54e30/em_examples-0.0.30-py2.py3-none-any.whl\nCollecting empymod (from -r ./requirements.txt (line 9))\n  Using cached https://files.pythonhosted.org/packages/0a/24/77231d9af2438d8913b457c58e739a039542623fdb7d2ee02a09cf940442/empymod-1.7.3-py3-none-any.whl\nCollecting deepdish (from -r ./requirements.txt (line 10))\n  Using cached https://files.pythonhosted.org/packages/6e/39/2a47c852651982bc5eb39212ac110284dd20126bdc7b49bde401a0139f5d/deepdish-0.3.6-py2.py3-none-any.whl\nCollecting pymatsolver>=0.1.2 (from -r ./requirements.txt (line 11))\n  Using cached https://files.pythonhosted.org/packages/0f/5e/30e92dfe738cc3e28f52344484aa2c6e44872787b2edd789df0eaae04e3b/pymatsolver-0.1.2.tar.gz\nRequirement already satisfied: six>=1.10 in /home/nbuser/anaconda3_501/lib/python3.6/site-packages (from matplotlib->-r ./requirements.txt (line 3)) (1.11.0)\nRequirement already satisfied: python-dateutil>=2.0 in /home/nbuser/anaconda3_501/lib/python3.6/site-packages (from matplotlib->-r ./requirements.txt (line 3)) (2.7.3)\nRequirement already satisfied: pytz in /home/nbuser/anaconda3_501/lib/python3.6/site-packages (from matplotlib->-r ./requirements.txt (line 3)) (2017.2)\nRequirement already satisfied: cycler>=0.10 in /home/nbuser/anaconda3_501/lib/python3.6/site-packages (from matplotlib->-r ./requirements.txt (line 3)) (0.10.0)\nRequirement already satisfied: pyparsing!=2.0.4,!=2.1.2,!=2.1.6,>=2.0.1 in /home/nbuser/anaconda3_501/lib/python3.6/site-packages (from matplotlib->-r ./requirements.txt (line 3)) (2.2.0)\nRequirement already satisfied: olefile in /home/nbuser/anaconda3_501/lib/python3.6/site-packages (from Pillow->-r ./requirements.txt (line 4)) (0.44)\nRequirement already satisfied: ipykernel>=4.5.1 in /home/nbuser/anaconda3_501/lib/python3.6/site-packages (from ipywidgets>=0.6.0->-r ./requirements.txt (line 5)) (4.7.0)\nRequirement already satisfied: traitlets>=4.3.1 in /home/nbuser/anaconda3_501/lib/python3.6/site-packages (from ipywidgets>=0.6.0->-r ./requirements.txt (line 5)) (4.3.2)\nRequirement already satisfied: nbformat>=4.2.0 in /home/nbuser/anaconda3_501/lib/python3.6/site-packages (from ipywidgets>=0.6.0->-r ./requirements.txt (line 5)) (4.4.0)\nRequirement already satisfied: widgetsnbextension~=3.2.0 in /home/nbuser/anaconda3_501/lib/python3.6/site-packages (from ipywidgets>=0.6.0->-r ./requirements.txt (line 5)) (3.2.1)\nRequirement already satisfied: ipython>=4.0.0 in /home/nbuser/anaconda3_501/lib/python3.6/site-packages (from ipywidgets>=0.6.0->-r ./requirements.txt (line 5)) (6.2.1)\nRequirement already satisfied: urllib3<1.24,>=1.21.1 in /home/nbuser/anaconda3_501/lib/python3.6/site-packages (from requests->-r ./requirements.txt (line 6)) (1.23)\nRequirement already satisfied: idna<2.8,>=2.5 in /home/nbuser/anaconda3_501/lib/python3.6/site-packages (from requests->-r ./requirements.txt (line 6)) (2.6)\nRequirement already satisfied: certifi>=2017.4.17 in /home/nbuser/anaconda3_501/lib/python3.6/site-packages (from requests->-r ./requirements.txt (line 6)) (2017.7.27.1)\nRequirement already satisfied: chardet<3.1.0,>=3.0.2 in /home/nbuser/anaconda3_501/lib/python3.6/site-packages (from requests->-r ./requirements.txt (line 6)) (3.0.4)\nRequirement already satisfied: cython in /home/nbuser/anaconda3_501/lib/python3.6/site-packages (from SimPEG->-r ./requirements.txt (line 7)) (0.26.1)\nCollecting geoana>=0.0.4 (from SimPEG->-r ./requirements.txt (line 7))\n  Downloading https://files.pythonhosted.org/packages/60/34/5715c1b3e35b4b7e0fdef463405c9ae5b073563f48118f2a54165be78cdc/geoana-0.0.5-py2.py3-none-any.whl\nCollecting properties>=0.5.2 (from SimPEG->-r ./requirements.txt (line 7))\n\u001b[?25l  Downloading https://files.pythonhosted.org/packages/61/9c/034bb67472f33d399a789875e98c3fc47c8ad9f6a59efbf23f3d65a6dd1e/properties-0.5.3.tar.gz (48kB)\n\u001b[K    100% |████████████████████████████████| 51kB 5.2MB/s ta 0:00:011\n\u001b[?25hCollecting vectormath>=0.2.0 (from SimPEG->-r ./requirements.txt (line 7))\n  Downloading https://files.pythonhosted.org/packages/c7/44/297304759e6e5076b5fe96cdef1dd7ff6e1c67b1e735a8284ab7f5555712/vectormath-0.2.0.tar.gz\nCollecting discretize>=0.2.0 (from SimPEG->-r ./requirements.txt (line 7))\n  Using cached https://files.pythonhosted.org/packages/8b/0c/5419bb36abfd8ddc45c7a63d553126523ce67074073442f5f0dcb05ff694/discretize-0.3.2.tar.gz\nCollecting jupyter (from em_examples->-r ./requirements.txt (line 8))\n  Using cached https://files.pythonhosted.org/packages/83/df/0f5dd132200728a86190397e1ea87cd76244e42d39ec5e88efd25b2abd7e/jupyter-1.0.0-py2.py3-none-any.whl\nRequirement already satisfied: future in /home/nbuser/anaconda3_501/lib/python3.6/site-packages (from em_examples->-r ./requirements.txt (line 8)) (0.16.0)\nRequirement already satisfied: tables in /home/nbuser/anaconda3_501/lib/python3.6/site-packages (from deepdish->-r ./requirements.txt (line 10)) (3.4.2)\nCollecting pyMKL>=0.0.3 (from pymatsolver>=0.1.2->-r ./requirements.txt (line 11))\n  Using cached https://files.pythonhosted.org/packages/43/9d/0657fdb64d31a83c5caab80a70e55dac7658ba3fac7d1f43cbcca726b286/pyMKL-0.0.3.tar.gz\nRequirement already satisfied: jupyter_client in /home/nbuser/anaconda3_501/lib/python3.6/site-packages (from ipykernel>=4.5.1->ipywidgets>=0.6.0->-r ./requirements.txt (line 5)) (5.1.0)\nRequirement already satisfied: tornado>=4.0 in /home/nbuser/anaconda3_501/lib/python3.6/site-packages (from ipykernel>=4.5.1->ipywidgets>=0.6.0->-r ./requirements.txt (line 5)) (4.5.2)\nRequirement already satisfied: ipython_genutils in /home/nbuser/anaconda3_501/lib/python3.6/site-packages (from traitlets>=4.3.1->ipywidgets>=0.6.0->-r ./requirements.txt (line 5)) (0.2.0)\nRequirement already satisfied: decorator in /home/nbuser/anaconda3_501/lib/python3.6/site-packages (from traitlets>=4.3.1->ipywidgets>=0.6.0->-r ./requirements.txt (line 5)) (4.1.2)\nRequirement already satisfied: jsonschema!=2.5.0,>=2.4 in /home/nbuser/anaconda3_501/lib/python3.6/site-packages (from nbformat>=4.2.0->ipywidgets>=0.6.0->-r ./requirements.txt (line 5)) (2.6.0)\nRequirement already satisfied: jupyter_core in /home/nbuser/anaconda3_501/lib/python3.6/site-packages (from nbformat>=4.2.0->ipywidgets>=0.6.0->-r ./requirements.txt (line 5)) (4.4.0)\nRequirement already satisfied: notebook>=4.4.1 in /home/nbuser/anaconda3_501/lib/python3.6/site-packages (from widgetsnbextension~=3.2.0->ipywidgets>=0.6.0->-r ./requirements.txt (line 5)) (5.0.0)\nRequirement already satisfied: setuptools>=18.5 in /home/nbuser/anaconda3_501/lib/python3.6/site-packages (from ipython>=4.0.0->ipywidgets>=0.6.0->-r ./requirements.txt (line 5)) (40.4.3)\nRequirement already satisfied: jedi>=0.10 in /home/nbuser/anaconda3_501/lib/python3.6/site-packages (from ipython>=4.0.0->ipywidgets>=0.6.0->-r ./requirements.txt (line 5)) (0.10.2)\nRequirement already satisfied: pickleshare in /home/nbuser/anaconda3_501/lib/python3.6/site-packages (from ipython>=4.0.0->ipywidgets>=0.6.0->-r ./requirements.txt (line 5)) (0.7.4)\nRequirement already satisfied: simplegeneric>0.8 in /home/nbuser/anaconda3_501/lib/python3.6/site-packages (from ipython>=4.0.0->ipywidgets>=0.6.0->-r ./requirements.txt (line 5)) (0.8.1)\nRequirement already satisfied: prompt_toolkit<2.0.0,>=1.0.4 in /home/nbuser/anaconda3_501/lib/python3.6/site-packages (from ipython>=4.0.0->ipywidgets>=0.6.0->-r ./requirements.txt (line 5)) (1.0.15)\nRequirement already satisfied: pygments in /home/nbuser/anaconda3_501/lib/python3.6/site-packages (from ipython>=4.0.0->ipywidgets>=0.6.0->-r ./requirements.txt (line 5)) (2.2.0)\nRequirement already satisfied: pexpect in /home/nbuser/anaconda3_501/lib/python3.6/site-packages (from ipython>=4.0.0->ipywidgets>=0.6.0->-r ./requirements.txt (line 5)) (4.2.1)\n",
          "name": "stdout"
        },
        {
          "output_type": "stream",
          "text": "Collecting utm (from geoana>=0.0.4->SimPEG->-r ./requirements.txt (line 7))\n  Using cached https://files.pythonhosted.org/packages/92/d9/8bdb3d477dcaf75e1a1021772892f729a055787a08aa472582c5d35a0b36/utm-0.4.2.tar.gz\nRequirement already satisfied: jupyter-console in /home/nbuser/anaconda3_501/lib/python3.6/site-packages (from jupyter->em_examples->-r ./requirements.txt (line 8)) (5.2.0)\nRequirement already satisfied: nbconvert in /home/nbuser/anaconda3_501/lib/python3.6/site-packages (from jupyter->em_examples->-r ./requirements.txt (line 8)) (5.3.1)\nRequirement already satisfied: qtconsole in /home/nbuser/anaconda3_501/lib/python3.6/site-packages (from jupyter->em_examples->-r ./requirements.txt (line 8)) (4.3.1)\nRequirement already satisfied: numexpr>=2.5.2 in /home/nbuser/anaconda3_501/lib/python3.6/site-packages (from tables->deepdish->-r ./requirements.txt (line 10)) (2.6.2)\nRequirement already satisfied: pyzmq>=13 in /home/nbuser/anaconda3_501/lib/python3.6/site-packages (from jupyter_client->ipykernel>=4.5.1->ipywidgets>=0.6.0->-r ./requirements.txt (line 5)) (16.0.2)\nRequirement already satisfied: wcwidth in /home/nbuser/anaconda3_501/lib/python3.6/site-packages (from prompt_toolkit<2.0.0,>=1.0.4->ipython>=4.0.0->ipywidgets>=0.6.0->-r ./requirements.txt (line 5)) (0.1.7)\nRequirement already satisfied: mistune>=0.7.4 in /home/nbuser/anaconda3_501/lib/python3.6/site-packages (from nbconvert->jupyter->em_examples->-r ./requirements.txt (line 8)) (0.7.4)\nRequirement already satisfied: jinja2 in /home/nbuser/anaconda3_501/lib/python3.6/site-packages (from nbconvert->jupyter->em_examples->-r ./requirements.txt (line 8)) (2.9.6)\nRequirement already satisfied: entrypoints>=0.2.2 in /home/nbuser/anaconda3_501/lib/python3.6/site-packages (from nbconvert->jupyter->em_examples->-r ./requirements.txt (line 8)) (0.2.3)\nRequirement already satisfied: bleach in /home/nbuser/anaconda3_501/lib/python3.6/site-packages (from nbconvert->jupyter->em_examples->-r ./requirements.txt (line 8)) (2.0.0)\nRequirement already satisfied: pandocfilters>=1.4.1 in /home/nbuser/anaconda3_501/lib/python3.6/site-packages (from nbconvert->jupyter->em_examples->-r ./requirements.txt (line 8)) (1.4.2)\nRequirement already satisfied: testpath in /home/nbuser/anaconda3_501/lib/python3.6/site-packages (from nbconvert->jupyter->em_examples->-r ./requirements.txt (line 8)) (0.3.1)\nRequirement already satisfied: MarkupSafe>=0.23 in /home/nbuser/anaconda3_501/lib/python3.6/site-packages (from jinja2->nbconvert->jupyter->em_examples->-r ./requirements.txt (line 8)) (1.0)\nRequirement already satisfied: html5lib>=0.99999999 in /home/nbuser/anaconda3_501/lib/python3.6/site-packages (from bleach->nbconvert->jupyter->em_examples->-r ./requirements.txt (line 8)) (0.999999999)\nRequirement already satisfied: webencodings in /home/nbuser/anaconda3_501/lib/python3.6/site-packages (from html5lib>=0.99999999->bleach->nbconvert->jupyter->em_examples->-r ./requirements.txt (line 8)) (0.5.1)\nBuilding wheels for collected packages: pymatsolver, properties, vectormath, discretize, pyMKL, utm\n  Running setup.py bdist_wheel for pymatsolver ... \u001b[?25ldone\n\u001b[?25h  Stored in directory: /home/nbuser/.cache/pip/wheels/09/66/a3/c540b8d29d1edab2bd4fabe368987aedc7fda18e742672be5b\n  Running setup.py bdist_wheel for properties ... \u001b[?25ldone\n\u001b[?25h  Stored in directory: /home/nbuser/.cache/pip/wheels/76/46/be/6a1402b7cfa1ca30e7fda543437f5dd615abef8aeb7a3d62c6\n  Running setup.py bdist_wheel for vectormath ... \u001b[?25ldone\n\u001b[?25h  Stored in directory: /home/nbuser/.cache/pip/wheels/a2/86/4d/f9890cfc126a83639eb2651f1e66f6d7f7bf0322b237f5a17b\n  Running setup.py bdist_wheel for discretize ... \u001b[?25ldone\n\u001b[?25h  Stored in directory: /home/nbuser/.cache/pip/wheels/09/6d/73/3b88a7371a5b8cdcf860f4fbd2c5001ff59054b63b2c37a0cc\n  Running setup.py bdist_wheel for pyMKL ... \u001b[?25ldone\n\u001b[?25h  Stored in directory: /home/nbuser/.cache/pip/wheels/d6/40/40/df64f35d394a22fbecae00749cb8e7071798a3554fac9e5abe\n  Running setup.py bdist_wheel for utm ... \u001b[?25ldone\n\u001b[?25h  Stored in directory: /home/nbuser/.cache/pip/wheels/1d/2d/5a/4c6320941f607ffefd353e1bb715e33a250a59f835cf0fbdd8\nSuccessfully built pymatsolver properties vectormath discretize pyMKL utm\nInstalling collected packages: utm, jupyter, properties, geoana, vectormath, pyMKL, pymatsolver, discretize, SimPEG, empymod, deepdish, em-examples\nSuccessfully installed SimPEG-0.9.2 deepdish-0.3.6 discretize-0.3.2 em-examples-0.0.30 empymod-1.7.3 geoana-0.0.5 jupyter-1.0.0 properties-0.5.3 pyMKL-0.0.3 pymatsolver-0.1.2 utm-0.4.2 vectormath-0.2.0\n",
          "name": "stdout"
        }
      ]
    },
    {
      "metadata": {
        "trusted": true
      },
      "cell_type": "code",
      "source": "from em_examples.Base import widgetify\nimport em_examples.InductionLoop as IND\nfrom ipywidgets import interact, FloatSlider, FloatText",
      "execution_count": 2,
      "outputs": []
    },
    {
      "metadata": {},
      "cell_type": "markdown",
      "source": "## Understanding frequency domain EM using RL circuit"
    },
    {
      "metadata": {},
      "cell_type": "markdown",
      "source": "### App Parameter Descriptions\n\n<img style=\"float: right; width: 500px\" src=\"https://github.com/geoscixyz/em_apps/blob/master/images/InductionLoop.png?raw=true\">\n\nBelow are the adjustable parameters for the widget that simulates the frequency domain EM experiment:\n\n* $I_p$: Transmitter current amplitude [A]\n* $a_{Tx}$: Transmitter loop radius [m]\n* $a_{Rx}$: Receiver loop radius [m]\n* $x_{Rx}$: Receiver x position [m]\n* $z_{Rx}$: Receiver z position [m]\n* $\\theta$: Receiver normal vector relative to vertical [degrees]\n* $R$: Resistance of receiver loop [$\\Omega$]\n* $L$: Inductance of receiver loop [H]\n* $f$: Specific frequency [Hz]"
    },
    {
      "metadata": {
        "trusted": true
      },
      "cell_type": "code",
      "source": "# RUN FREQUENCY DOMAIN WIDGET\nwidgetify(IND.fcn_FDEM_Widget,I=FloatSlider(min=1, max=10., value=1., step=1., continuous_update=False, description = \"$I_0$\"),\\\n                        a1=FloatSlider(min=1., max=20., value=10., step=1., continuous_update=False, description = \"$a_{Tx}$\"),\\\n                        a2=FloatSlider(min=1., max=20.,value=5.,step=1.,continuous_update=False,description = \"$a_{Rx}$\"),\\\n                        xRx=FloatSlider(min=-15., max=15., value=0., step=1., continuous_update=False, description = \"$x_{Rx}$\"),\\\n                        zRx=FloatSlider(min=-15., max=15., value=-8., step=1., continuous_update=False, description = \"$z_{Rx}$\"),\\\n                        azm=FloatSlider(min=-90., max=90., value=0., step=10., continuous_update=False, description = \"$\\\\theta$\"),\\\n                        logR=FloatSlider(min=0., max=6., value=2., step=.2, continuous_update=False, description = \"$log_{10}(R)$\"),\\\n                        logL=FloatSlider(min=-7., max=-2., value=-4., step=1., continuous_update=False, description = \"$log_{10}(L)$\"),\\\n                        logf=FloatSlider(min=0., max=8., value=5., step=1., continuous_update=False, description = \"$log_{10}(f)$\"))\n    ",
      "execution_count": 3,
      "outputs": [
        {
          "output_type": "display_data",
          "data": {
            "application/vnd.jupyter.widget-view+json": {
              "model_id": "b2e1e0648dcc445386c2729b8b11bc1f",
              "version_minor": 0,
              "version_major": 2
            },
            "text/plain": "MyApp(children=(FloatSlider(value=1.0, continuous_update=False, description='$I_0$', max=10.0, min=1.0, step=1…"
          },
          "metadata": {}
        }
      ]
    },
    {
      "metadata": {},
      "cell_type": "markdown",
      "source": "<font color = red>**Note:**</font> Keep the frequency <font color=blue>*$log_{10}(f) = 5$*</font>. Run the above app by setting the resistance of the receiver loop to the following values: <font color = blue>*$log_{10}(R) = 0, 1, 2, 3, 4. $*</font> Answer the following questions. "
    },
    {
      "metadata": {},
      "cell_type": "markdown",
      "source": "<font color = red>**Task 1**</font>: Report the phase lag values that appear in the middle panel, when the resistance increases from 1 $\\Omega$ to $10^4 \\Omega$?. How does the phase lag change? <font color=red>**(10 points)**</font>"
    },
    {
      "metadata": {},
      "cell_type": "markdown",
      "source": "(answer to Task 1) <br>\nPhase lag at 1 $\\Omega$ = 179.1 $\\deg$ <br>\nPhase lag at $10 \\Omega$ = 171.0 $\\deg$ <br>\n\nPhase lag at $10^2 \\Omega$ = 122.1 $\\deg$ <br>\n\nPhase lag at $10^3 \\Omega$ = 93.6 $\\deg$ <br>\n\n\nPhase lag at $10^4 \\Omega$ = 90.4 $\\deg$ <br>\n\nPhase lag at $10^5 \\Omega$ = 90  $\\deg$ <br>\n\nThe phase lag decrease as you increase the resistivity.\n"
    },
    {
      "metadata": {},
      "cell_type": "markdown",
      "source": "<font color = red>**Task 2**</font>: Compute $\\frac{\\pi}{2} + tan^{-1}(\\frac{2\\pi f L}{R})$ in <font color = red>**degrees** </font> with <font color = blue>$log_{10}(L) = -4$ </font>, <font color=blue>*$log_{10}(f) = 5$*</font>, and <font color = blue>*$log_{10}(R) = 0, 1, 2, 3, 4. $*</font> How do these values compare with the values your reported above? <font color = red>**(10 points)**</font> <br>\n<font color = red>**HINT:**</font> What you obtain from $\\frac{\\pi}{2} + tan^{-1}(\\frac{2\\pi f L}{R})$ is phase lag in radians. You will need to convert radians to degrees. To do that, you can use the following simple equation: degrees = radians*180/$\\pi$."
    },
    {
      "metadata": {
        "trusted": true
      },
      "cell_type": "code",
      "source": "import numpy as np\n\ndef calculate(R):\n    x = (3.14/2) + np.arctan(((10**(-4))*2*3.14*10**5)/R)  \n    return x\n\nR = [1, 10, 100, 1000, 10000]\n\nfor i in R:\n    print(i, \":\", calculate(i), \"rad = \", calculate(i)*180/3.14, \"degrees\")\n",
      "execution_count": 16,
      "outputs": [
        {
          "output_type": "stream",
          "text": "1 : 3.124874105570977 rad =  179.13291051043814 degrees\n10 : 2.982886406085381 rad =  170.99348824693266 degrees\n100 : 2.1307537105741403 rad =  122.14511716667046 degrees\n1000 : 1.6327176370906809 rad =  93.5952785593384 degrees\n10000 : 1.5762799174442363 rad =  90.35999526750399 degrees\n",
          "name": "stdout"
        }
      ]
    },
    {
      "metadata": {},
      "cell_type": "markdown",
      "source": "(answer to Task 2) <br>\n\n\n"
    },
    {
      "metadata": {},
      "cell_type": "markdown",
      "source": "<font color = red>**Task 3**</font>: Report the amplitude values of $I_s$, i.e., the amplitude of the induced current in the receiver loop,  when the resistance increases from 1 $\\Omega$ to $10^4 \\Omega$?. How do they change? <font color = red>**(10 points)**</font>"
    },
    {
      "metadata": {
        "trusted": true
      },
      "cell_type": "markdown",
      "source": "(answer to Task 3)\n"
    },
    {
      "metadata": {},
      "cell_type": "markdown",
      "source": "1: 0.0235 A <br>\n10: 0.0232 A <br>\n100: 0.0125 A <br>\n1000: 0.001473 A <br>\n10000: 0.00001476 A <br>\n\nIt Decreases!"
    },
    {
      "metadata": {},
      "cell_type": "markdown",
      "source": "<font color = red>**Task 4**</font>: How does the in-phase component of the secondary current change (i.e., the blue sinusoidal curve in the bottom panel), when the resistance increases from 1 $\\Omega$ to $10^4 \\Omega$? How about the quadrature component? Report the values of the amplitudes for both in-phase and quadrature components (when <font color = blue>*$log_{10}(R) = 0, 1, 2, 3, 4$*</font> ) and summarize your observation. <font color = red>**(10 points)**</font>"
    },
    {
      "metadata": {},
      "cell_type": "markdown",
      "source": "R, Phase, Quadrature <br>\n1:     0.02348,   0.000374<br>\n10:    0.0229,    0.00364<br>\n100:   0.006657,  0.01058<br>\n1000:  0.0000923, 0.00147<br>\n10000: 0.0000927, 0.0001476<br>\nAs R increase, Phase decrease, Quadrature increase then decrease\n"
    },
    {
      "metadata": {
        "trusted": true
      },
      "cell_type": "markdown",
      "source": "(answer to Task 4) <br>\n"
    },
    {
      "metadata": {},
      "cell_type": "markdown",
      "source": "<font color = red>**Task 5**</font>: Re-run the app with <font color = blue> $\\theta = 90^{\\circ}$ </font>, <font color = blue>$log_{10}(L) = -4$ </font>, <font color=blue>*$log_{10}(f) = 5$*</font>, and <font color = blue>*$log_{10}(R) = 2.$*</font> Report the amplitude of the secondary current $I_s$, and compare it with what you would observe when <font color = blue> $\\theta = 0^{\\circ}$ </font>, <font color = blue>$log_{10}(L) = -4$ </font>, <font color=blue>*$log_{10}(f) = 5$*</font>, and <font color = blue>*$log_{10}(R) = 2.$*</font>. Explain the observation using the concept of mutual inductance (i.e., coupling). <font color = red>**(10 points)**</font> <br>\n<font color = red>**HINT:**</font> Take a look at Slide 80 from last week's lecture, if you need to refresh your memory on coupling between loops."
    },
    {
      "metadata": {
        "trusted": true
      },
      "cell_type": "markdown",
      "source": "(answer to Task 5) <br>\n"
    },
    {
      "metadata": {},
      "cell_type": "markdown",
      "source": "0 degrees: Is = 0.0125<br>\n    90 degrees: Is = 0<br>\nWhen the loop is in a 90 degree angle with the primary loop, there are no perpendicular component of the magnetic field through the area of loop, and thus it cannot induce current to the secondary loop (null coupling)"
    },
    {
      "metadata": {},
      "cell_type": "markdown",
      "source": "<font color = red>**Task 6**</font>: Find out which resistance value results in equal in-phase and quadrature components.  <font color = red>**(10 points)**</font> <br>\n<font color = red>**HINT:**</font> Adjust the resistance value by dragging on the $log_{10}(R)$ slider, while keeping all other parameters fixed (i.e., $I_0$ = 1, $a_{Tx}$ = 10, $a_{Rx}$ = 5, $x_{Rx}$ = 0, $z_{Rx}$ = -8, $\\theta$ = 0, $log_{10}(L)$ = -4, and $log_{10}(f)$ = 5). "
    },
    {
      "metadata": {},
      "cell_type": "markdown",
      "source": "(answer to Task 6) <br>\n"
    },
    {
      "metadata": {},
      "cell_type": "markdown",
      "source": "## Understanding time domain EM using RL circuit"
    },
    {
      "metadata": {},
      "cell_type": "markdown",
      "source": "## App Parameter Descriptions\n\n<img style=\"float: right; width: 500px\" src=\"https://github.com/geoscixyz/em_apps/blob/master/images/InductionLoop.png?raw=true\">\n\nBelow are the adjustable parameters for the widget that simulates the time domain EM experiment:\n\n* $I_p$: Transmitter current amplitude [A]\n* $a_{Tx}$: Transmitter loop radius [m]\n* $a_{Rx}$: Receiver loop radius [m]\n* $x_{Rx}$: Receiver x position [m]\n* $z_{Rx}$: Receiver z position [m]\n* $\\theta$: Receiver normal vector relative to vertical [degrees]\n* $R$: Resistance of receiver loop [$\\Omega$]\n* $L$: Inductance of receiver loop [H]\n* $t$: Specific time [s]"
    },
    {
      "metadata": {
        "trusted": true
      },
      "cell_type": "code",
      "source": "# RUN TRANSIENT WIDGET\nwidgetify(IND.fcn_TDEM_Widget,I=FloatSlider(min=0.01, max=100., value=1., step=1., continuous_update=False, description = \"$I_0$\"),\\\n                        a1=FloatSlider(min=1., max=20., value=10., step=1., continuous_update=False, description = \"$a_{Tx}$\"),\\\n                        a2=FloatSlider(min=1., max=20., value=5., step=1., continuous_update=False, description = \"$a_{Rx}$\"),\\\n                        xRx=FloatSlider(min=-15., max=15., value=0., step=1., continuous_update=False, description = \"$x_{Rx}$\"),\\\n                        zRx=FloatSlider(min=-15., max=15., value=-8., step=1., continuous_update=False, description = \"$z_{Rx}$\"),\\\n                        azm=FloatSlider(min=-90., max=90., value=0., step=10., continuous_update=False, description = \"$\\\\theta$\"),\\\n                        logR=FloatSlider(min=0, max=6, value=2, step=1., continuous_update=False, description = \"$log_{10}(R)$\"),\\\n                        logL=FloatSlider(min=-7, max=-2, value=-2, step=1., continuous_update=False, description = \"$log_{10}(L)$\"),\\\n                        logt=FloatSlider(min=-6, max=-2, value=-4, step=1., continuous_update=False, description = \"$log_{10}(t)$\"))\n    ",
      "execution_count": 4,
      "outputs": [
        {
          "output_type": "display_data",
          "data": {
            "application/vnd.jupyter.widget-view+json": {
              "model_id": "e48999cceae54ddaa163be9368d91eaf",
              "version_minor": 0,
              "version_major": 2
            },
            "text/plain": "MyApp(children=(FloatSlider(value=1.0, continuous_update=False, description='$I_0$', min=0.01, step=1.0), Floa…"
          },
          "metadata": {}
        }
      ]
    },
    {
      "metadata": {},
      "cell_type": "markdown",
      "source": "<font color = red>**Task 7**</font>: Run the above app by setting the resistance of the receiver loop to the following values: <font color = blue>*$log_{10}(R) = 0, 1, 2, 3, 4. $*</font>. Keep all other parameters unchanged (i.e., $I_0$ = 1, $a_{Tx}$ = 10, $a_{Rx}$ = 5, $x_{Rx}$ = 0, $z_{Rx}$ = -8, $\\theta$ = 0, $log_{10}(L)$ = -2, and $log_{10}(t)$ = -4). Compare the decay rate of the secondary current $I_s$ when different resistance values were assumed. Summarize and explain your observation. <font color = red>**(15 points)**</font> <br>\n<font color = red>**HINT:**</font> Remember that the induced current in the receiver loop is $I_s(t) = \\frac{M_{12}I_{0}}{L}e^{-t/\\tau}$ where $t \\gt 0, \\tau = \\frac{L}{R}$. See Slide 102 from last week's lecture."
    },
    {
      "metadata": {},
      "cell_type": "markdown",
      "source": "(answer to Task 7) <br>\n"
    },
    {
      "metadata": {},
      "cell_type": "markdown",
      "source": "<font color = red>**Task 8**</font>: Run the above app by setting the vertical location of the receiver loop to three different values: <font color = blue>$z_{Rx}$ = -4, -8 and -15 </font>, while keeping all the other parameters fixed (i.e., $I_0$ = 1, $a_{Tx}$ = 10, $a_{Rx}$ = 5, $x_{Rx}$ = 0, $\\theta$ = 0, $log_{10}(R)$ = 2, $log_{10}(L)$ = -2, and $log_{10}(t)$ = -4). Compare the decaying behavior of the secondary current $I_s$ when the receiver loop was placed at different depths. Summarize and explain your observation. <font color = red>**(15 points)**</font> <br>\n<font color = red>**HINT:**</font> Remember that the induced current in the receiver loop is $I_s(t) = \\frac{M_{12}I_{0}}{L}e^{-t/\\tau}$ where $t \\gt 0, \\tau = \\frac{L}{R}$. See Slide 102 from last week's lecture."
    },
    {
      "metadata": {},
      "cell_type": "markdown",
      "source": "(answer to Task 8) <br>\n"
    },
    {
      "metadata": {},
      "cell_type": "markdown",
      "source": "<font color = red>**Task 9**</font>: Run the above app by setting the primary current in the transmitter loop to three different values: <font color = blue>$I_0$ = 1, 20.01 and 60.01 </font>, while keeping all the other parameters fixed (i.e., $a_{Tx}$ = 10, $a_{Rx}$ = 5, $x_{Rx}$ = 0, $z_{Rx}$ = -8, $\\theta$ = 0, $log_{10}(R)$ = 2, $log_{10}(L)$ = -2, and $log_{10}(t)$ = -4). Compare the decaying behavior of the secondary current $I_s$ when the receiver loop was placed at different depths. Summarize and explain your observation. <font color = red>**(10 points)**</font> <br>\n<font color = red>**HINT:**</font> Remember that the induced current in the receiver loop is $I_s(t) = \\frac{M_{12}I_{0}}{L}e^{-t/\\tau}$ where $t \\gt 0, \\tau = \\frac{L}{R}$. See Slide 102 from last week's lecture."
    },
    {
      "metadata": {},
      "cell_type": "markdown",
      "source": "(answer to Task 9) <br>\n"
    },
    {
      "metadata": {},
      "cell_type": "markdown",
      "source": "## Acknowledgments\nThe apps that were used in this lab were developed by the [SimPEG](http://www.simpeg.xyz/) team. Most members are graduate students from [UBC-GIF](https://gif.eos.ubc.ca/about). I would like all SimPEG team members for their hard and awesome work!\n\n<img src = \"simpegteam.PNG\">"
    },
    {
      "metadata": {
        "trusted": true
      },
      "cell_type": "code",
      "source": "",
      "execution_count": null,
      "outputs": []
    }
  ],
  "metadata": {
    "kernelspec": {
      "name": "python36",
      "display_name": "Python 3.6",
      "language": "python"
    },
    "language_info": {
      "mimetype": "text/x-python",
      "nbconvert_exporter": "python",
      "name": "python",
      "pygments_lexer": "ipython3",
      "version": "3.6.6",
      "file_extension": ".py",
      "codemirror_mode": {
        "version": 3,
        "name": "ipython"
      }
    }
  },
  "nbformat": 4,
  "nbformat_minor": 2
}